{
  "nbformat": 4,
  "nbformat_minor": 0,
  "metadata": {
    "colab": {
      "provenance": []
    },
    "kernelspec": {
      "name": "python3",
      "display_name": "Python 3"
    },
    "language_info": {
      "name": "python"
    }
  },
  "cells": [
    {
      "cell_type": "code",
      "execution_count": null,
      "metadata": {
        "id": "nvlh868mWnEV"
      },
      "outputs": [],
      "source": [
        "import cv2\n",
        "import os\n",
        "import tensorflow as tf\n",
        "from tensorflow import keras\n",
        "from PIL import Image\n",
        "import numpy as np\n",
        "from sklearn.model_selection import train_test_split\n",
        "from keras.utils import normalize\n",
        "from keras.models import Sequential\n",
        "from keras.layers import Conv2D, MaxPooling2D\n",
        "from keras.layers import Activation, Dropout, Flatten, Dense\n",
        "from keras.utils import to_categorical"
      ]
    },
    {
      "cell_type": "code",
      "source": [
        "img_dir='/content/drive/MyDrive/brain_tumor_dataset/'"
      ],
      "metadata": {
        "id": "mVpjfQwuXQ5U"
      },
      "execution_count": null,
      "outputs": []
    },
    {
      "cell_type": "code",
      "source": [
        "\n",
        "notum=os.listdir(img_dir+ 'no/')\n",
        "yestum=os.listdir(img_dir+ 'yes/')\n",
        "dataset=[]\n",
        "label=[]\n"
      ],
      "metadata": {
        "id": "j_BQGHSbX9u8"
      },
      "execution_count": null,
      "outputs": []
    },
    {
      "cell_type": "code",
      "source": [
        "inpsize=64\n",
        "print(notum)\n",
        "path='no0.jpg'\n",
        "print(path.split('.')[1])\n",
        "     "
      ],
      "metadata": {
        "colab": {
          "base_uri": "https://localhost:8080/"
        },
        "id": "5_6J1l2QZAcY",
        "outputId": "3e3a4b7d-ec82-48b1-d1c0-97206ca1a650"
      },
      "execution_count": null,
      "outputs": [
        {
          "output_type": "stream",
          "name": "stdout",
          "text": [
            "['N11.jpg', 'N1.JPG', '48 no.jpeg', '38 no.jpg', '50 no.jpg', '49 no.jpg', 'No12.jpg', '28 no.jpg', '30 no.jpg', '1 no.jpeg', '24 no.jpg', '44no.jpg', 'No13.jpg', '29 no.jpg', '40 no.jpg', '45 no.jpg', 'N19.JPG', '11 no.jpg', '27 no.jpg', '21 no.jpg', '15 no.jpg', '2 no.jpeg', '31 no.jpg', '13 no.jpg', '4 no.jpg', '18 no.jpg', '20 no.jpg', '3 no.jpg', '41 no.jpg', '6 no.jpg', '33 no.jpg', '7 no.jpg', '9 no.jpg', '35 no.jpg', 'N20.JPG', '19 no.jpg', 'N5.jpg', '42 no.jpg', 'N22.JPG', '12 no.jpg', '37 no.jpg', 'N17.jpg', '23 no.jpg', '10 no.jpg', 'No15.jpg', 'No11.jpg', 'N3.jpg', '36 no.jpg', 'No14.jpg', '22 no.jpg', 'N6.jpg', '34 no.jpg', '14 no.jpg', '39 no.jpg', '46 no.jpg', 'N15.jpg', 'N2.JPG', '43 no.jpg', '17 no.jpg', 'No16.jpg', '5 no.jpg', '25 no.jpg', 'N21.jpg', '32 no.jpg', '47 no.jpg', 'N16.jpg', '8 no.jpg', '26 no.jpg', 'N26.JPG', 'no 2.jpg', 'No19.jpg', 'no 4.jpg', 'No22.jpg', 'no 6.jpg', 'no 923.jpg', 'No21.jpg', 'no 10.jpg', 'no 3.jpg', 'no 9.png', 'no 90.jpg', 'no.jpg', 'no 5.jpeg', 'no 1.jpg', 'no 89.jpg', 'no 8.jpg', 'no 7.jpeg', 'no 99.jpg', 'no 94.jpg', 'no 91.jpeg', 'No20.jpg', 'no 95.jpg', 'no 96.jpg', 'No17.jpg', 'no 98.jpg', 'no 92.jpg', 'no 97.jpg', 'no 100.jpg', 'No18.jpg']\n",
            "jpg\n"
          ]
        }
      ]
    },
    {
      "cell_type": "code",
      "source": [
        "for i , image_name in enumerate(notum):\n",
        "    if(image_name.split('.')[0]=='jpg'):\n",
        "        image=cv2.imread(img_dir+'no/'+image_name)\n",
        "        image=Image.fromarray(image, 'RGB')\n",
        "        image=image.resize((inpsize,inpsize))\n",
        "        dataset.append(np.array(image))\n",
        "        label.append(0)"
      ],
      "metadata": {
        "id": "AjV8PDLuZL5y"
      },
      "execution_count": null,
      "outputs": []
    },
    {
      "cell_type": "code",
      "source": [
        "for i , image_name in enumerate(yestum):\n",
        "    if(image_name.split('.')[1]=='jpg'):\n",
        "        image=cv2.imread(img_dir+'yes/'+image_name)\n",
        "        image=Image.fromarray(image, 'RGB')\n",
        "        image=image.resize((inpsize,inpsize))\n",
        "        dataset.append(np.array(image))\n",
        "        label.append(1)"
      ],
      "metadata": {
        "id": "iK_z4RlzZPJQ"
      },
      "execution_count": null,
      "outputs": []
    },
    {
      "cell_type": "code",
      "source": [
        "dataset=np.array(dataset)\n",
        "label=np.array(label)\n",
        "     "
      ],
      "metadata": {
        "id": "Nq1Yn60GZRDe"
      },
      "execution_count": null,
      "outputs": []
    },
    {
      "cell_type": "code",
      "source": [
        "x_train, x_test, y_train, y_test=train_test_split(dataset, label, test_size=0.2, random_state=0)\n",
        "print(x_train.shape)\n",
        "print(y_train.shape)\n",
        "\n",
        "print(x_test.shape)\n",
        "print(y_test.shape)\n",
        "     \n",
        "\n",
        "     "
      ],
      "metadata": {
        "id": "qoG8Ya6Aa2m7",
        "colab": {
          "base_uri": "https://localhost:8080/"
        },
        "outputId": "1f9bdf21-238b-4ef1-a7d0-95fa13482ee3"
      },
      "execution_count": null,
      "outputs": [
        {
          "output_type": "stream",
          "name": "stdout",
          "text": [
            "(68, 64, 64, 3)\n",
            "(68,)\n",
            "(18, 64, 64, 3)\n",
            "(18,)\n"
          ]
        }
      ]
    },
    {
      "cell_type": "code",
      "source": [
        "x_train=normalize(x_train, axis=1)\n",
        "x_test=normalize(x_test, axis=1)\n",
        "     "
      ],
      "metadata": {
        "id": "jxT3xTRPcdWk"
      },
      "execution_count": null,
      "outputs": []
    },
    {
      "cell_type": "code",
      "source": [
        "y_train=to_categorical(y_train , num_classes=2)\n",
        "y_test=to_categorical(y_test, num_classes=2)"
      ],
      "metadata": {
        "id": "l_Fd7xGfcn0K"
      },
      "execution_count": null,
      "outputs": []
    },
    {
      "cell_type": "markdown",
      "source": [
        "#Building the model"
      ],
      "metadata": {
        "id": "H9eJh4KGkM-k"
      }
    },
    {
      "cell_type": "code",
      "source": [
        "model=Sequential()"
      ],
      "metadata": {
        "id": "DT6UEJtscu1a"
      },
      "execution_count": null,
      "outputs": []
    },
    {
      "cell_type": "code",
      "source": [
        "model.add(Conv2D(32, (3,3), input_shape=(inpsize, inpsize, 3)))\n",
        "model.add(Activation('relu'))\n",
        "model.add(MaxPooling2D(pool_size=(2,2)))"
      ],
      "metadata": {
        "id": "DElfcSt0cx_Z"
      },
      "execution_count": null,
      "outputs": []
    },
    {
      "cell_type": "code",
      "source": [
        "model.add(Conv2D(32, (3,3), kernel_initializer='he_uniform'))\n",
        "model.add(Activation('relu'))\n",
        "model.add(MaxPooling2D(pool_size=(2,2)))\n",
        "     "
      ],
      "metadata": {
        "id": "p13hbtv3c00f"
      },
      "execution_count": null,
      "outputs": []
    },
    {
      "cell_type": "code",
      "source": [
        "model.add(Conv2D(64, (3,3), kernel_initializer='he_uniform'))\n",
        "model.add(Activation('relu'))\n",
        "model.add(MaxPooling2D(pool_size=(2,2)))"
      ],
      "metadata": {
        "id": "_33ywngvdKMb"
      },
      "execution_count": null,
      "outputs": []
    },
    {
      "cell_type": "code",
      "source": [
        "model.add(Flatten())\n",
        "model.add(Dense(64))\n",
        "model.add(Activation('relu'))\n",
        "model.add(Dropout(0.5))\n",
        "model.add(Dense(2))\n",
        "model.add(Activation('softmax'))\n",
        "     "
      ],
      "metadata": {
        "id": "_LUwyVKjdKor"
      },
      "execution_count": null,
      "outputs": []
    },
    {
      "cell_type": "code",
      "source": [
        "model.compile(loss='categorical_crossentropy',optimizer='adam', metrics=['accuracy'])"
      ],
      "metadata": {
        "id": "0BgRIzoidCat"
      },
      "execution_count": null,
      "outputs": []
    },
    {
      "cell_type": "code",
      "source": [
        "model.fit(x_train, y_train, batch_size=16, verbose=1, epochs=10, validation_data=(x_test, y_test), shuffle=False)"
      ],
      "metadata": {
        "id": "dB8urEsWc2_A",
        "colab": {
          "base_uri": "https://localhost:8080/"
        },
        "outputId": "6a6e9789-854b-4854-dbd0-5adc5e4775e3"
      },
      "execution_count": null,
      "outputs": [
        {
          "output_type": "stream",
          "name": "stdout",
          "text": [
            "Epoch 1/10\n",
            "5/5 [==============================] - 2s 149ms/step - loss: 0.3876 - accuracy: 0.8382 - val_loss: 0.0157 - val_accuracy: 1.0000\n",
            "Epoch 2/10\n",
            "5/5 [==============================] - 0s 91ms/step - loss: 0.0138 - accuracy: 1.0000 - val_loss: 1.7087e-06 - val_accuracy: 1.0000\n",
            "Epoch 3/10\n",
            "5/5 [==============================] - 0s 79ms/step - loss: 3.3715e-05 - accuracy: 1.0000 - val_loss: 0.0000e+00 - val_accuracy: 1.0000\n",
            "Epoch 4/10\n",
            "5/5 [==============================] - 0s 80ms/step - loss: 3.1555e-08 - accuracy: 1.0000 - val_loss: 0.0000e+00 - val_accuracy: 1.0000\n",
            "Epoch 5/10\n",
            "5/5 [==============================] - 0s 82ms/step - loss: 0.0000e+00 - accuracy: 1.0000 - val_loss: 0.0000e+00 - val_accuracy: 1.0000\n",
            "Epoch 6/10\n",
            "5/5 [==============================] - 1s 126ms/step - loss: 0.0000e+00 - accuracy: 1.0000 - val_loss: 0.0000e+00 - val_accuracy: 1.0000\n",
            "Epoch 7/10\n",
            "5/5 [==============================] - 0s 81ms/step - loss: 0.0000e+00 - accuracy: 1.0000 - val_loss: 0.0000e+00 - val_accuracy: 1.0000\n",
            "Epoch 8/10\n",
            "5/5 [==============================] - 0s 78ms/step - loss: 0.0000e+00 - accuracy: 1.0000 - val_loss: 0.0000e+00 - val_accuracy: 1.0000\n",
            "Epoch 9/10\n",
            "5/5 [==============================] - 1s 159ms/step - loss: 0.0000e+00 - accuracy: 1.0000 - val_loss: 0.0000e+00 - val_accuracy: 1.0000\n",
            "Epoch 10/10\n",
            "5/5 [==============================] - 0s 88ms/step - loss: 0.0000e+00 - accuracy: 1.0000 - val_loss: 0.0000e+00 - val_accuracy: 1.0000\n"
          ]
        },
        {
          "output_type": "execute_result",
          "data": {
            "text/plain": [
              "<keras.callbacks.History at 0x7f82481d1fa0>"
            ]
          },
          "metadata": {},
          "execution_count": 25
        }
      ]
    },
    {
      "cell_type": "code",
      "source": [
        "model.save('BrainTumor10EpochCategorical.h5')"
      ],
      "metadata": {
        "id": "JiW91vfSdMCs"
      },
      "execution_count": null,
      "outputs": []
    },
    {
      "cell_type": "code",
      "source": [
        "from keras.models import load_model"
      ],
      "metadata": {
        "id": "W7jLQjnxdTW4"
      },
      "execution_count": null,
      "outputs": []
    },
    {
      "cell_type": "code",
      "source": [
        "model=load_model('BrainTumor10EpochCategorical.h5')\n",
        "     "
      ],
      "metadata": {
        "id": "I_FHfO42dVqX"
      },
      "execution_count": null,
      "outputs": []
    },
    {
      "cell_type": "code",
      "source": [
        "image=cv2.imread('/content/drive/MyDrive/brain_tumor_dataset/no/10 no.jpg')"
      ],
      "metadata": {
        "id": "ahUP44C2dY4i"
      },
      "execution_count": null,
      "outputs": []
    },
    {
      "cell_type": "code",
      "source": [
        "img=Image.fromarray(image)"
      ],
      "metadata": {
        "id": "oz7zc5WbdbYP"
      },
      "execution_count": null,
      "outputs": []
    },
    {
      "cell_type": "code",
      "source": [
        "img=img.resize((64,64))"
      ],
      "metadata": {
        "id": "93ta70xmdcTr"
      },
      "execution_count": null,
      "outputs": []
    },
    {
      "cell_type": "code",
      "source": [
        "\n",
        "img=np.array(img)"
      ],
      "metadata": {
        "id": "m6c0XUv2deeB"
      },
      "execution_count": null,
      "outputs": []
    },
    {
      "cell_type": "code",
      "source": [
        "input_img=np.expand_dims(img, axis=0)"
      ],
      "metadata": {
        "id": "hrRQAY8bdggp"
      },
      "execution_count": null,
      "outputs": []
    },
    {
      "cell_type": "code",
      "source": [
        "result=np.argmax(model.predict(input_img), axis=1)\n",
        "print(result)"
      ],
      "metadata": {
        "id": "5MhIvXy_di7s",
        "colab": {
          "base_uri": "https://localhost:8080/"
        },
        "outputId": "4ab09c50-d248-4f3a-e681-5d40ebda3b11"
      },
      "execution_count": null,
      "outputs": [
        {
          "output_type": "stream",
          "name": "stdout",
          "text": [
            "1/1 [==============================] - 0s 121ms/step\n",
            "[1]\n"
          ]
        }
      ]
    },
    {
      "cell_type": "code",
      "source": [
        "result=np.argmax(model.predict(input_img), axis=1)\n",
        "print(result)"
      ],
      "metadata": {
        "id": "ejVn2kj1dmJX",
        "colab": {
          "base_uri": "https://localhost:8080/"
        },
        "outputId": "1df2dca9-1fb7-4d87-f905-747b1edd90b0"
      },
      "execution_count": null,
      "outputs": [
        {
          "output_type": "stream",
          "name": "stdout",
          "text": [
            "1/1 [==============================] - 0s 27ms/step\n",
            "[1]\n"
          ]
        }
      ]
    }
  ]
}